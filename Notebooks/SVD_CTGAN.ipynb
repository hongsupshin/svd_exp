{
 "cells": [
  {
   "cell_type": "markdown",
   "id": "c93faeea-2f4b-4f20-8dfd-b2889b0404a7",
   "metadata": {},
   "source": [
    "# Tabular Data Synthesis with [Synthetic Data Vault](https://docs.sdv.dev/sdv) (CTGAN)\n",
    "\n",
    "Let's use SDV's CTGAN algorithm to create synthetic data for a single table and evaluate it. CTGAN uses generative adversarial networks (GANs) to create synthesize data with high fidelity.\n",
    "\n",
    "## 0. Background\n",
    "\n",
    "Synthetic Data Vault is a python library for tabular data synthesis. Along with SynthPop, it is one of the most widely used tabular data synthesis libraries. The library has three main approaches for data synthesis.\n",
    "\n",
    "### Main methods\n",
    "\n",
    "1. **Gaussian copula**: This method models the joint distribution of columns in a tabular dataset as multivariate Gaussian. This is the fatest method but the assumptions may not apply to many real-world datasets.\n",
    "\n",
    "2. **CTGAN**: Conditional Tabular GAN (CTGAN) is the main method of the library based on the 2019 paper \"Modeling Tabular Data using Conditional GAN,\" which uses GAN (genrative adversarial network) to estimate complex joint distribution of a tabular dataset. The generator learns the joint distribution of the real data, and then generate a batch of synthetic rows. The discriminator (the critic) calculates loss by comparing the synthetic row and the real data, until it cannot distinguish the two.\n",
    "\n",
    "3. **TVAE**: Tabular variational autoencoder (TVAE) is a method that was introduced in the above-mentioned 2019 paper, as a comparative method that uses VAE instead of GAN. As a VAE model, this unsupervised approach compresses a tabular dataset (input) as multivariate Gaussian layer, and then by using a trained decoder network, it generates synthetic data.\n",
    "\n",
    "### CTGAN\n",
    "\n",
    "GAN has been used frequently for tabular data synthesis because GAN has an advantage of learning flexible distributionl. Traditionally, Bayesian networks have been used as main methods for data synthesis (because they are generative models) and they often have been considered as too restrictive because of the limited choices of pdfs although there seems lack of comprehensive comparison between GAN and Bayesian networks.\n",
    "\n",
    "To this date, GANs are still actively studied for tabular data synthesis. The main motivation, also mentioned in the CTGAN paper, is that the joint distribution of columns in real-world tabular data is quite complex. First, real-world data often contain mixed data types such as continuous and discrete. Second, the data tend to have multiple modes, which do not follow Gaussian distribution. Finally, categorical data often show severe class imbalance.\n",
    "\n",
    "CTGAN's three main features address these challenges. First, the use mode-specific normalization that encodes (preprocesses) a continuous column into a N-dimensional ont-hot vector with a scalar vector where the one-hot vector is an indicator vector of N modes in the distribution of the columnal data. The number of modes is estimated by the variational Gaussian mixture (VGN) method.\n",
    "\n",
    "Second, CTGAN uses a conditional generator by estimating the conditional distribution of rows given a particular value of a particular column. To incorporate a conditional generator into GAN architecture, the conditional generator must learn the real data conditional distribution. For discrete data, the reconstruction of real data is done by marginalizing this conditional distribution across all categories of a given column.\n",
    "\n",
    "Finally, to address the class imbalance, when generating synthetic samples, they use a training-by-sampling method, which is simply sampling from a probability mass function of a discrete column, where the mass represents the log frequency of categories."
   ]
  },
  {
   "cell_type": "markdown",
   "id": "690b6425-3ab8-400e-89eb-589313968f54",
   "metadata": {},
   "source": [
    "# 1. Loading the demo data\n",
    "SDV provides a handful of demo datasets. Use `sdv.datasets.demo.get_available_demos(modality='single_table')` to get all single-table examples."
   ]
  },
  {
   "cell_type": "code",
   "execution_count": 1,
   "id": "0bfd9bd9-cb40-46eb-ba59-af1972eae057",
   "metadata": {},
   "outputs": [],
   "source": [
    "import sdv\n",
    "from sdv.datasets import demo"
   ]
  },
  {
   "cell_type": "code",
   "execution_count": 2,
   "id": "261f63b9-e65e-4240-9de5-e909e3c66d09",
   "metadata": {},
   "outputs": [
    {
     "data": {
      "text/html": [
       "<div>\n",
       "<style scoped>\n",
       "    .dataframe tbody tr th:only-of-type {\n",
       "        vertical-align: middle;\n",
       "    }\n",
       "\n",
       "    .dataframe tbody tr th {\n",
       "        vertical-align: top;\n",
       "    }\n",
       "\n",
       "    .dataframe thead th {\n",
       "        text-align: right;\n",
       "    }\n",
       "</style>\n",
       "<table border=\"1\" class=\"dataframe\">\n",
       "  <thead>\n",
       "    <tr style=\"text-align: right;\">\n",
       "      <th></th>\n",
       "      <th>dataset_name</th>\n",
       "      <th>size_MB</th>\n",
       "      <th>num_tables</th>\n",
       "    </tr>\n",
       "  </thead>\n",
       "  <tbody>\n",
       "    <tr>\n",
       "      <th>0</th>\n",
       "      <td>KRK_v1</td>\n",
       "      <td>0.06</td>\n",
       "      <td>1</td>\n",
       "    </tr>\n",
       "    <tr>\n",
       "      <th>1</th>\n",
       "      <td>adult</td>\n",
       "      <td>3.91</td>\n",
       "      <td>1</td>\n",
       "    </tr>\n",
       "    <tr>\n",
       "      <th>2</th>\n",
       "      <td>alarm</td>\n",
       "      <td>4.52</td>\n",
       "      <td>1</td>\n",
       "    </tr>\n",
       "    <tr>\n",
       "      <th>3</th>\n",
       "      <td>asia</td>\n",
       "      <td>1.28</td>\n",
       "      <td>1</td>\n",
       "    </tr>\n",
       "    <tr>\n",
       "      <th>4</th>\n",
       "      <td>census</td>\n",
       "      <td>98.17</td>\n",
       "      <td>1</td>\n",
       "    </tr>\n",
       "    <tr>\n",
       "      <th>5</th>\n",
       "      <td>census_extended</td>\n",
       "      <td>4.95</td>\n",
       "      <td>1</td>\n",
       "    </tr>\n",
       "    <tr>\n",
       "      <th>6</th>\n",
       "      <td>child</td>\n",
       "      <td>3.20</td>\n",
       "      <td>1</td>\n",
       "    </tr>\n",
       "    <tr>\n",
       "      <th>7</th>\n",
       "      <td>covtype</td>\n",
       "      <td>255.65</td>\n",
       "      <td>1</td>\n",
       "    </tr>\n",
       "    <tr>\n",
       "      <th>8</th>\n",
       "      <td>credit</td>\n",
       "      <td>68.35</td>\n",
       "      <td>1</td>\n",
       "    </tr>\n",
       "    <tr>\n",
       "      <th>9</th>\n",
       "      <td>expedia_hotel_logs</td>\n",
       "      <td>0.20</td>\n",
       "      <td>1</td>\n",
       "    </tr>\n",
       "    <tr>\n",
       "      <th>10</th>\n",
       "      <td>fake_companies</td>\n",
       "      <td>0.00</td>\n",
       "      <td>1</td>\n",
       "    </tr>\n",
       "    <tr>\n",
       "      <th>11</th>\n",
       "      <td>fake_hotel_guests</td>\n",
       "      <td>0.03</td>\n",
       "      <td>1</td>\n",
       "    </tr>\n",
       "    <tr>\n",
       "      <th>12</th>\n",
       "      <td>grid</td>\n",
       "      <td>0.32</td>\n",
       "      <td>1</td>\n",
       "    </tr>\n",
       "    <tr>\n",
       "      <th>13</th>\n",
       "      <td>gridr</td>\n",
       "      <td>0.32</td>\n",
       "      <td>1</td>\n",
       "    </tr>\n",
       "    <tr>\n",
       "      <th>14</th>\n",
       "      <td>insurance</td>\n",
       "      <td>3.34</td>\n",
       "      <td>1</td>\n",
       "    </tr>\n",
       "    <tr>\n",
       "      <th>15</th>\n",
       "      <td>intrusion</td>\n",
       "      <td>162.04</td>\n",
       "      <td>1</td>\n",
       "    </tr>\n",
       "    <tr>\n",
       "      <th>16</th>\n",
       "      <td>mnist12</td>\n",
       "      <td>81.20</td>\n",
       "      <td>1</td>\n",
       "    </tr>\n",
       "    <tr>\n",
       "      <th>17</th>\n",
       "      <td>mnist28</td>\n",
       "      <td>439.60</td>\n",
       "      <td>1</td>\n",
       "    </tr>\n",
       "    <tr>\n",
       "      <th>18</th>\n",
       "      <td>news</td>\n",
       "      <td>18.71</td>\n",
       "      <td>1</td>\n",
       "    </tr>\n",
       "    <tr>\n",
       "      <th>19</th>\n",
       "      <td>ring</td>\n",
       "      <td>0.32</td>\n",
       "      <td>1</td>\n",
       "    </tr>\n",
       "    <tr>\n",
       "      <th>20</th>\n",
       "      <td>student_placements</td>\n",
       "      <td>0.03</td>\n",
       "      <td>1</td>\n",
       "    </tr>\n",
       "    <tr>\n",
       "      <th>21</th>\n",
       "      <td>student_placements_pii</td>\n",
       "      <td>0.03</td>\n",
       "      <td>1</td>\n",
       "    </tr>\n",
       "  </tbody>\n",
       "</table>\n",
       "</div>"
      ],
      "text/plain": [
       "              dataset_name  size_MB  num_tables\n",
       "0                   KRK_v1     0.06           1\n",
       "1                    adult     3.91           1\n",
       "2                    alarm     4.52           1\n",
       "3                     asia     1.28           1\n",
       "4                   census    98.17           1\n",
       "5          census_extended     4.95           1\n",
       "6                    child     3.20           1\n",
       "7                  covtype   255.65           1\n",
       "8                   credit    68.35           1\n",
       "9       expedia_hotel_logs     0.20           1\n",
       "10          fake_companies     0.00           1\n",
       "11       fake_hotel_guests     0.03           1\n",
       "12                    grid     0.32           1\n",
       "13                   gridr     0.32           1\n",
       "14               insurance     3.34           1\n",
       "15               intrusion   162.04           1\n",
       "16                 mnist12    81.20           1\n",
       "17                 mnist28   439.60           1\n",
       "18                    news    18.71           1\n",
       "19                    ring     0.32           1\n",
       "20      student_placements     0.03           1\n",
       "21  student_placements_pii     0.03           1"
      ]
     },
     "execution_count": 2,
     "metadata": {},
     "output_type": "execute_result"
    }
   ],
   "source": [
    "demo.get_available_demos(modality='single_table')"
   ]
  },
  {
   "cell_type": "markdown",
   "id": "9516ae44-9d75-4514-a92a-65afcc9ca19c",
   "metadata": {},
   "source": [
    "In this notebook, we use a small and simple dataset, `'fake_hotel_guests'`."
   ]
  },
  {
   "cell_type": "code",
   "execution_count": 3,
   "id": "15196f73-c1a9-4c21-b261-51a306b21357",
   "metadata": {},
   "outputs": [],
   "source": [
    "from sdv.datasets.demo import download_demo\n",
    "\n",
    "real_data, metadata = download_demo(\n",
    "    modality='single_table',\n",
    "    dataset_name='fake_hotel_guests'\n",
    ")"
   ]
  },
  {
   "cell_type": "code",
   "execution_count": 4,
   "id": "14ee1919-58c0-4c2a-b601-741be3334519",
   "metadata": {},
   "outputs": [
    {
     "data": {
      "text/plain": [
       "(500, 9)"
      ]
     },
     "execution_count": 4,
     "metadata": {},
     "output_type": "execute_result"
    }
   ],
   "source": [
    "real_data.shape"
   ]
  },
  {
   "cell_type": "code",
   "execution_count": 5,
   "id": "d8bad356-17ac-41c9-9783-5bddbe3cc71a",
   "metadata": {},
   "outputs": [
    {
     "data": {
      "text/html": [
       "<div>\n",
       "<style scoped>\n",
       "    .dataframe tbody tr th:only-of-type {\n",
       "        vertical-align: middle;\n",
       "    }\n",
       "\n",
       "    .dataframe tbody tr th {\n",
       "        vertical-align: top;\n",
       "    }\n",
       "\n",
       "    .dataframe thead th {\n",
       "        text-align: right;\n",
       "    }\n",
       "</style>\n",
       "<table border=\"1\" class=\"dataframe\">\n",
       "  <thead>\n",
       "    <tr style=\"text-align: right;\">\n",
       "      <th></th>\n",
       "      <th>guest_email</th>\n",
       "      <th>has_rewards</th>\n",
       "      <th>room_type</th>\n",
       "      <th>amenities_fee</th>\n",
       "      <th>checkin_date</th>\n",
       "      <th>checkout_date</th>\n",
       "      <th>room_rate</th>\n",
       "      <th>billing_address</th>\n",
       "      <th>credit_card_number</th>\n",
       "    </tr>\n",
       "  </thead>\n",
       "  <tbody>\n",
       "    <tr>\n",
       "      <th>0</th>\n",
       "      <td>michaelsanders@shaw.net</td>\n",
       "      <td>False</td>\n",
       "      <td>BASIC</td>\n",
       "      <td>37.89</td>\n",
       "      <td>27 Dec 2020</td>\n",
       "      <td>29 Dec 2020</td>\n",
       "      <td>131.23</td>\n",
       "      <td>49380 Rivers Street\\nSpencerville, AK 68265</td>\n",
       "      <td>4075084747483975747</td>\n",
       "    </tr>\n",
       "    <tr>\n",
       "      <th>1</th>\n",
       "      <td>randy49@brown.biz</td>\n",
       "      <td>False</td>\n",
       "      <td>BASIC</td>\n",
       "      <td>24.37</td>\n",
       "      <td>30 Dec 2020</td>\n",
       "      <td>02 Jan 2021</td>\n",
       "      <td>114.43</td>\n",
       "      <td>88394 Boyle Meadows\\nConleyberg, TN 22063</td>\n",
       "      <td>180072822063468</td>\n",
       "    </tr>\n",
       "    <tr>\n",
       "      <th>2</th>\n",
       "      <td>webermelissa@neal.com</td>\n",
       "      <td>True</td>\n",
       "      <td>DELUXE</td>\n",
       "      <td>0.00</td>\n",
       "      <td>17 Sep 2020</td>\n",
       "      <td>18 Sep 2020</td>\n",
       "      <td>368.33</td>\n",
       "      <td>0323 Lisa Station Apt. 208\\nPort Thomas, LA 82585</td>\n",
       "      <td>38983476971380</td>\n",
       "    </tr>\n",
       "    <tr>\n",
       "      <th>3</th>\n",
       "      <td>gsims@terry.com</td>\n",
       "      <td>False</td>\n",
       "      <td>BASIC</td>\n",
       "      <td>NaN</td>\n",
       "      <td>28 Dec 2020</td>\n",
       "      <td>31 Dec 2020</td>\n",
       "      <td>115.61</td>\n",
       "      <td>77 Massachusetts Ave\\nCambridge, MA 02139</td>\n",
       "      <td>4969551998845740</td>\n",
       "    </tr>\n",
       "    <tr>\n",
       "      <th>4</th>\n",
       "      <td>misty33@smith.biz</td>\n",
       "      <td>False</td>\n",
       "      <td>BASIC</td>\n",
       "      <td>16.45</td>\n",
       "      <td>05 Apr 2020</td>\n",
       "      <td>NaN</td>\n",
       "      <td>122.41</td>\n",
       "      <td>1234 Corporate Drive\\nBoston, MA 02116</td>\n",
       "      <td>3558512986488983</td>\n",
       "    </tr>\n",
       "  </tbody>\n",
       "</table>\n",
       "</div>"
      ],
      "text/plain": [
       "               guest_email  has_rewards room_type  amenities_fee checkin_date  \\\n",
       "0  michaelsanders@shaw.net        False     BASIC          37.89  27 Dec 2020   \n",
       "1        randy49@brown.biz        False     BASIC          24.37  30 Dec 2020   \n",
       "2    webermelissa@neal.com         True    DELUXE           0.00  17 Sep 2020   \n",
       "3          gsims@terry.com        False     BASIC            NaN  28 Dec 2020   \n",
       "4        misty33@smith.biz        False     BASIC          16.45  05 Apr 2020   \n",
       "\n",
       "  checkout_date  room_rate                                    billing_address  \\\n",
       "0   29 Dec 2020     131.23        49380 Rivers Street\\nSpencerville, AK 68265   \n",
       "1   02 Jan 2021     114.43          88394 Boyle Meadows\\nConleyberg, TN 22063   \n",
       "2   18 Sep 2020     368.33  0323 Lisa Station Apt. 208\\nPort Thomas, LA 82585   \n",
       "3   31 Dec 2020     115.61          77 Massachusetts Ave\\nCambridge, MA 02139   \n",
       "4           NaN     122.41             1234 Corporate Drive\\nBoston, MA 02116   \n",
       "\n",
       "    credit_card_number  \n",
       "0  4075084747483975747  \n",
       "1      180072822063468  \n",
       "2       38983476971380  \n",
       "3     4969551998845740  \n",
       "4     3558512986488983  "
      ]
     },
     "execution_count": 5,
     "metadata": {},
     "output_type": "execute_result"
    }
   ],
   "source": [
    "real_data.head()"
   ]
  },
  {
   "cell_type": "markdown",
   "id": "ec7c9b39-508e-414b-8a6a-1a6190451e8b",
   "metadata": {},
   "source": [
    "The demo datasets include metadata, a description of the dataset. It includes the primary keys as well as the data types for each column (called \"sdtypes\"), **which are different from pandas dtypes**."
   ]
  },
  {
   "cell_type": "code",
   "execution_count": 6,
   "id": "a8d547d1-21da-4664-8627-c1f81a88d3f1",
   "metadata": {},
   "outputs": [
    {
     "data": {
      "text/plain": [
       "{\n",
       "    \"primary_key\": \"guest_email\",\n",
       "    \"METADATA_SPEC_VERSION\": \"SINGLE_TABLE_V1\",\n",
       "    \"columns\": {\n",
       "        \"guest_email\": {\n",
       "            \"sdtype\": \"email\",\n",
       "            \"pii\": true\n",
       "        },\n",
       "        \"has_rewards\": {\n",
       "            \"sdtype\": \"boolean\"\n",
       "        },\n",
       "        \"room_type\": {\n",
       "            \"sdtype\": \"categorical\"\n",
       "        },\n",
       "        \"amenities_fee\": {\n",
       "            \"sdtype\": \"numerical\",\n",
       "            \"computer_representation\": \"Float\"\n",
       "        },\n",
       "        \"checkin_date\": {\n",
       "            \"sdtype\": \"datetime\",\n",
       "            \"datetime_format\": \"%d %b %Y\"\n",
       "        },\n",
       "        \"checkout_date\": {\n",
       "            \"sdtype\": \"datetime\",\n",
       "            \"datetime_format\": \"%d %b %Y\"\n",
       "        },\n",
       "        \"room_rate\": {\n",
       "            \"sdtype\": \"numerical\",\n",
       "            \"computer_representation\": \"Float\"\n",
       "        },\n",
       "        \"billing_address\": {\n",
       "            \"sdtype\": \"address\",\n",
       "            \"pii\": true\n",
       "        },\n",
       "        \"credit_card_number\": {\n",
       "            \"sdtype\": \"credit_card_number\",\n",
       "            \"pii\": true\n",
       "        }\n",
       "    }\n",
       "}"
      ]
     },
     "execution_count": 6,
     "metadata": {},
     "output_type": "execute_result"
    }
   ],
   "source": [
    "metadata"
   ]
  },
  {
   "cell_type": "markdown",
   "id": "3620345e-f113-4b9e-a983-4a0c81746201",
   "metadata": {},
   "source": [
    "## 2. Train a synthesizer\n",
    "\n",
    "An SDV synthesizer is an object that you can use to create synthetic data. It learns patterns from the real data and replicates them to generate synthetic data. In this case, we're using CTGAN as a synthesizer. Note that the **synthesizer requires metadata** for training.\n",
    "\n",
    "**For larger datasets, this phase may take longer. A drawback of a GAN-based model like CTGAN is performance.** CTGAN requires `pytorch` and provides an option to use CUDA as backend."
   ]
  },
  {
   "cell_type": "code",
   "execution_count": 7,
   "id": "469403c5-00b1-43f5-9fcd-d5ec56d59e19",
   "metadata": {},
   "outputs": [
    {
     "name": "stdout",
     "output_type": "stream",
     "text": [
      "Intel MKL WARNING: Support of Intel(R) Streaming SIMD Extensions 4.2 (Intel(R) SSE4.2) enabled only processors has been deprecated. Intel oneAPI Math Kernel Library 2025.0 will require Intel(R) Advanced Vector Extensions (Intel(R) AVX) instructions.\n",
      "CPU times: user 1min 31s, sys: 1min 8s, total: 2min 40s\n",
      "Wall time: 48.5 s\n"
     ]
    }
   ],
   "source": [
    "%%time\n",
    "\n",
    "from sdv.single_table import CTGANSynthesizer\n",
    "\n",
    "synthesizer = CTGANSynthesizer(metadata)\n",
    "synthesizer.fit(real_data)"
   ]
  },
  {
   "cell_type": "markdown",
   "id": "8c4f5a49-0b58-4f7d-9fe4-7e6864d3a225",
   "metadata": {
    "id": "ugVNgKOXHoaS"
   },
   "source": [
    "## 3. Generate Synthetic Data\n",
    "Use the `sample` function and pass in any number of rows to synthesize. Compared to training, data synthesis is much faster. The synthesizer is generating synthetic guests in the same format as the original data."
   ]
  },
  {
   "cell_type": "code",
   "execution_count": 8,
   "id": "7cee98ec-2d90-4fe2-9b77-843b016b10be",
   "metadata": {
    "colab": {
     "base_uri": "https://localhost:8080/",
     "height": 206
    },
    "id": "KG81cdYWHhwL",
    "outputId": "7c32652b-02e5-4f46-d86e-4cc0560b0d05"
   },
   "outputs": [
    {
     "name": "stdout",
     "output_type": "stream",
     "text": [
      "CPU times: user 604 ms, sys: 837 ms, total: 1.44 s\n",
      "Wall time: 494 ms\n"
     ]
    }
   ],
   "source": [
    "%%time\n",
    "synthetic_data = synthesizer.sample(num_rows=500)"
   ]
  },
  {
   "cell_type": "code",
   "execution_count": 9,
   "id": "cb4e24ef-2b52-4fd6-8710-45bf4c77a1d0",
   "metadata": {},
   "outputs": [
    {
     "data": {
      "text/html": [
       "<div>\n",
       "<style scoped>\n",
       "    .dataframe tbody tr th:only-of-type {\n",
       "        vertical-align: middle;\n",
       "    }\n",
       "\n",
       "    .dataframe tbody tr th {\n",
       "        vertical-align: top;\n",
       "    }\n",
       "\n",
       "    .dataframe thead th {\n",
       "        text-align: right;\n",
       "    }\n",
       "</style>\n",
       "<table border=\"1\" class=\"dataframe\">\n",
       "  <thead>\n",
       "    <tr style=\"text-align: right;\">\n",
       "      <th></th>\n",
       "      <th>guest_email</th>\n",
       "      <th>has_rewards</th>\n",
       "      <th>room_type</th>\n",
       "      <th>amenities_fee</th>\n",
       "      <th>checkin_date</th>\n",
       "      <th>checkout_date</th>\n",
       "      <th>room_rate</th>\n",
       "      <th>billing_address</th>\n",
       "      <th>credit_card_number</th>\n",
       "    </tr>\n",
       "  </thead>\n",
       "  <tbody>\n",
       "    <tr>\n",
       "      <th>0</th>\n",
       "      <td>dsullivan@example.net</td>\n",
       "      <td>False</td>\n",
       "      <td>BASIC</td>\n",
       "      <td>8.33</td>\n",
       "      <td>12 Feb 2020</td>\n",
       "      <td>07 Jan 2020</td>\n",
       "      <td>160.19</td>\n",
       "      <td>90469 Karla Knolls Apt. 781\\nSusanberg, CA 70033</td>\n",
       "      <td>5161033759518983</td>\n",
       "    </tr>\n",
       "    <tr>\n",
       "      <th>1</th>\n",
       "      <td>steven59@example.org</td>\n",
       "      <td>False</td>\n",
       "      <td>BASIC</td>\n",
       "      <td>1.53</td>\n",
       "      <td>13 Oct 2020</td>\n",
       "      <td>31 Jul 2020</td>\n",
       "      <td>219.36</td>\n",
       "      <td>6108 Carla Ports Apt. 116\\nPort Evan, MI 71694</td>\n",
       "      <td>4133047413145475690</td>\n",
       "    </tr>\n",
       "    <tr>\n",
       "      <th>2</th>\n",
       "      <td>brandon15@example.net</td>\n",
       "      <td>False</td>\n",
       "      <td>DELUXE</td>\n",
       "      <td>21.40</td>\n",
       "      <td>25 Feb 2020</td>\n",
       "      <td>01 Apr 2020</td>\n",
       "      <td>162.96</td>\n",
       "      <td>86709 Jeremy Manors Apt. 786\\nPort Garychester...</td>\n",
       "      <td>4977328103788</td>\n",
       "    </tr>\n",
       "    <tr>\n",
       "      <th>3</th>\n",
       "      <td>humphreyjennifer@example.net</td>\n",
       "      <td>False</td>\n",
       "      <td>BASIC</td>\n",
       "      <td>40.63</td>\n",
       "      <td>18 May 2020</td>\n",
       "      <td>19 Jan 2020</td>\n",
       "      <td>89.96</td>\n",
       "      <td>8906 Bobby Trail\\nEast Sandra, NY 43986</td>\n",
       "      <td>3524946844839485</td>\n",
       "    </tr>\n",
       "    <tr>\n",
       "      <th>4</th>\n",
       "      <td>joshuabrown@example.net</td>\n",
       "      <td>True</td>\n",
       "      <td>SUITE</td>\n",
       "      <td>NaN</td>\n",
       "      <td>01 Jan 2021</td>\n",
       "      <td>09 Jun 2020</td>\n",
       "      <td>139.00</td>\n",
       "      <td>732 Dennis Lane\\nPort Nicholasstad, DE 49786</td>\n",
       "      <td>4446905799576890978</td>\n",
       "    </tr>\n",
       "  </tbody>\n",
       "</table>\n",
       "</div>"
      ],
      "text/plain": [
       "                    guest_email  has_rewards room_type  amenities_fee  \\\n",
       "0         dsullivan@example.net        False     BASIC           8.33   \n",
       "1          steven59@example.org        False     BASIC           1.53   \n",
       "2         brandon15@example.net        False    DELUXE          21.40   \n",
       "3  humphreyjennifer@example.net        False     BASIC          40.63   \n",
       "4       joshuabrown@example.net         True     SUITE            NaN   \n",
       "\n",
       "  checkin_date checkout_date  room_rate  \\\n",
       "0  12 Feb 2020   07 Jan 2020     160.19   \n",
       "1  13 Oct 2020   31 Jul 2020     219.36   \n",
       "2  25 Feb 2020   01 Apr 2020     162.96   \n",
       "3  18 May 2020   19 Jan 2020      89.96   \n",
       "4  01 Jan 2021   09 Jun 2020     139.00   \n",
       "\n",
       "                                     billing_address   credit_card_number  \n",
       "0   90469 Karla Knolls Apt. 781\\nSusanberg, CA 70033     5161033759518983  \n",
       "1     6108 Carla Ports Apt. 116\\nPort Evan, MI 71694  4133047413145475690  \n",
       "2  86709 Jeremy Manors Apt. 786\\nPort Garychester...        4977328103788  \n",
       "3            8906 Bobby Trail\\nEast Sandra, NY 43986     3524946844839485  \n",
       "4       732 Dennis Lane\\nPort Nicholasstad, DE 49786  4446905799576890978  "
      ]
     },
     "execution_count": 9,
     "metadata": {},
     "output_type": "execute_result"
    }
   ],
   "source": [
    "synthetic_data.head()"
   ]
  },
  {
   "cell_type": "markdown",
   "id": "1481c719-140e-4f3b-9596-08aba4e49cf1",
   "metadata": {},
   "source": [
    "## 4. Evaluating Real vs. Synthetic Data\n",
    "\n",
    "SDV has built-in functions for evaluating the synthetic data and getting more insight. They can be grouped into **Diagnostic** functions and **Data Quality** check functions.\n",
    "\n",
    "### 4.1. Diagnostic\n",
    "\n",
    "This step checks basic validity of the synthetic data.\n",
    "\n",
    "1. Data structure: Checks to ensure the real and synthetic data have the same column names\n",
    "2. Data validity: checks basic validity for each of the columns such as\n",
    "    1. Primary keys must always be unique and non-null\n",
    "    2. Continuous values in the synthetic data must adhere to the min/max range in the real data\n",
    "    3. Discrete values in the synthetic data must adhere to the same categories as the real data\n",
    "\n",
    "The scores from a dignostic check **MUST be 100%**."
   ]
  },
  {
   "cell_type": "code",
   "execution_count": 10,
   "id": "72872c9f-4872-4e60-aac3-a7e73dbe5ef3",
   "metadata": {},
   "outputs": [
    {
     "name": "stdout",
     "output_type": "stream",
     "text": [
      "Generating report ...\n",
      "\n",
      "(1/2) Evaluating Data Validity: |███████████████████████████████████████████████████| 9/9 [00:00<00:00, 759.93it/s]|\n",
      "Data Validity Score: 100.0%\n",
      "\n",
      "(2/2) Evaluating Data Structure: |██████████████████████████████████████████████████| 1/1 [00:00<00:00, 117.55it/s]|\n",
      "Data Structure Score: 100.0%\n",
      "\n",
      "Overall Score (Average): 100.0%\n",
      "\n"
     ]
    }
   ],
   "source": [
    "from sdv.evaluation.single_table import run_diagnostic\n",
    "\n",
    "diagnostic = run_diagnostic(\n",
    "    real_data=real_data,\n",
    "    synthetic_data=synthetic_data,\n",
    "    metadata=metadata\n",
    ")"
   ]
  },
  {
   "cell_type": "markdown",
   "id": "55663ce4-89b5-45ce-b68b-b91e06b5db2a",
   "metadata": {},
   "source": [
    "### 4.2. Data quality"
   ]
  },
  {
   "cell_type": "markdown",
   "id": "73f8d687-21be-4e6d-a7d0-1b805a7eb81b",
   "metadata": {},
   "source": [
    "This step checks the similarity between the real and synthetic data.\n",
    "\n",
    "1. Column Shapes: The statistical similarity between the real and synthetic data for **single columns** of data. This is often called the marginal distribution of each column.\n",
    "2. Column Pair Trends: The statistical similarity between the real and synthetic data for pairs of columns. This is often called **the correlation or bivariate distributions of the columns.**\n",
    "\n",
    "According to their [documentation](https://docs.sdv.dev/sdv/single-table-data/evaluation/data-quality):\n",
    "\n",
    "- A 100% score means that the patterns are exactly the same. For example, if you compared the real data with itself (identity), the score would be 100%.\n",
    "- A 0% score means the patterns are as different as can be. This would entail that the synthetic data purposefully contains anti-patterns that are opposite from the real data.\n",
    "- Any score in the middle can be interpreted along this scale. For example, a score of 80% means that the synthetic data is about 80% similar to the real data — about 80% of the trends are similar."
   ]
  },
  {
   "cell_type": "code",
   "execution_count": 11,
   "id": "66ba177e-d188-4ac6-a5d9-5e57f358e593",
   "metadata": {},
   "outputs": [
    {
     "name": "stdout",
     "output_type": "stream",
     "text": [
      "Generating report ...\n",
      "\n",
      "(1/2) Evaluating Column Shapes: |███████████████████████████████████████████████████| 9/9 [00:00<00:00, 235.94it/s]|\n",
      "Column Shapes Score: 76.27%\n",
      "\n",
      "(2/2) Evaluating Column Pair Trends: |████████████████████████████████████████████| 36/36 [00:00<00:00, 136.47it/s]|\n",
      "Column Pair Trends Score: 75.79%\n",
      "\n",
      "Overall Score (Average): 76.03%\n",
      "\n"
     ]
    }
   ],
   "source": [
    "from sdv.evaluation.single_table import evaluate_quality\n",
    "\n",
    "quality_report = evaluate_quality(\n",
    "    real_data,\n",
    "    synthetic_data,\n",
    "    metadata\n",
    ")"
   ]
  },
  {
   "cell_type": "markdown",
   "id": "bb6f6450-5ab1-4eca-b5f9-3c31a12360ec",
   "metadata": {},
   "source": [
    "Their documentation explains why we don't check similarity in higher dimensions:\n",
    "\n",
    ">Higher order distributions of 3 or more columns are not included in the Quality Report. We have found that very high order similarity may have an adverse effect on the synthetic data. After a certain point, it indicates that the synthetic data is just a copy of the real data. (For more information, see the NewRowSynthesis metric.)\n",
    ">\n",
    ">If higher order similarity is a requirement, you likely have a targeted use case for synthetic data (eg. machine learning efficacy). Until we add these reports, you may want to explore other metrics in the SDMetrics library. You may also want to try directly using your synthetic data for the downstream application."
   ]
  },
  {
   "cell_type": "markdown",
   "id": "403d9166-b532-4836-91b1-7fe554a6f0f7",
   "metadata": {},
   "source": [
    "## 5. Visualize the real vs. synthetic data\n",
    "\n",
    "The library provides several handy functions to compare the distributions of the real and synthetic data. The visualization uses `plotly` interactive visualization."
   ]
  },
  {
   "cell_type": "markdown",
   "id": "78715b02-cebf-48e7-8722-4a4d3229b997",
   "metadata": {},
   "source": [
    "### 5.1. PMF of a discrete column"
   ]
  },
  {
   "cell_type": "code",
   "execution_count": 12,
   "id": "6a754fb6-1adf-4f01-bca6-c275a686d8aa",
   "metadata": {},
   "outputs": [
    {
     "data": {
      "text/html": [
       "<iframe\n",
       "    scrolling=\"no\"\n",
       "    width=\"100%\"\n",
       "    height=\"545px\"\n",
       "    src=\"iframe_figures/figure_12.html\"\n",
       "    frameborder=\"0\"\n",
       "    allowfullscreen\n",
       "></iframe>\n"
      ]
     },
     "metadata": {},
     "output_type": "display_data"
    }
   ],
   "source": [
    "from sdv.evaluation.single_table import get_column_plot\n",
    "\n",
    "fig = get_column_plot(\n",
    "    real_data=real_data,\n",
    "    synthetic_data=synthetic_data,\n",
    "    column_name='room_type',\n",
    "    metadata=metadata\n",
    ")\n",
    "\n",
    "fig.show()"
   ]
  },
  {
   "cell_type": "markdown",
   "id": "0883650b-e6da-459e-8bf9-fb021306d035",
   "metadata": {},
   "source": [
    "### 5.2. PDF by category by using a column-pair plot (intersection of a discrete and a continuous columns)"
   ]
  },
  {
   "cell_type": "code",
   "execution_count": 14,
   "id": "10201150-1ef7-4565-9f28-3cb99b06cb69",
   "metadata": {},
   "outputs": [
    {
     "data": {
      "text/html": [
       "<iframe\n",
       "    scrolling=\"no\"\n",
       "    width=\"100%\"\n",
       "    height=\"545px\"\n",
       "    src=\"iframe_figures/figure_14.html\"\n",
       "    frameborder=\"0\"\n",
       "    allowfullscreen\n",
       "></iframe>\n"
      ]
     },
     "metadata": {},
     "output_type": "display_data"
    }
   ],
   "source": [
    "from sdv.evaluation.single_table import get_column_pair_plot\n",
    "\n",
    "fig = get_column_pair_plot(\n",
    "    real_data=real_data,\n",
    "    synthetic_data=synthetic_data,\n",
    "    column_names=['room_rate', 'room_type'],\n",
    "    metadata=metadata\n",
    ")\n",
    "\n",
    "fig.show()"
   ]
  },
  {
   "cell_type": "markdown",
   "id": "b4d4f93e-b71f-4d4b-92b8-5f9049a12004",
   "metadata": {},
   "source": [
    "## 6. CTGAN customization\n",
    "\n",
    "When using this synthesizer, we can make a tradeoff between training time and data quality using the epochs parameter: Higher epochs means that the synthesizer will train for longer, and ideally improve the data quality."
   ]
  },
  {
   "cell_type": "code",
   "execution_count": 15,
   "id": "9c112073-c763-4e4a-9d8f-d0776fa7abc8",
   "metadata": {},
   "outputs": [
    {
     "name": "stdout",
     "output_type": "stream",
     "text": [
      "CPU times: user 4min 32s, sys: 3min 33s, total: 8min 5s\n",
      "Wall time: 1min 29s\n"
     ]
    }
   ],
   "source": [
    "%%time\n",
    "custom_synthesizer = CTGANSynthesizer(\n",
    "    metadata,\n",
    "    epochs=1000)\n",
    "custom_synthesizer.fit(real_data)"
   ]
  },
  {
   "cell_type": "code",
   "execution_count": 16,
   "id": "0bfe565b-ce8b-43e4-9ff7-27bde5875903",
   "metadata": {},
   "outputs": [
    {
     "name": "stdout",
     "output_type": "stream",
     "text": [
      "Generating report ...\n",
      "\n",
      "(1/2) Evaluating Column Shapes: |███████████████████████████████████████████████████| 9/9 [00:00<00:00, 486.94it/s]|\n",
      "Column Shapes Score: 85.43%\n",
      "\n",
      "(2/2) Evaluating Column Pair Trends: |████████████████████████████████████████████| 36/36 [00:00<00:00, 164.43it/s]|\n",
      "Column Pair Trends Score: 82.68%\n",
      "\n",
      "Overall Score (Average): 84.06%\n",
      "\n"
     ]
    }
   ],
   "source": [
    "synthetic_data_customized = custom_synthesizer.sample(num_rows=500)\n",
    "\n",
    "quality_report = evaluate_quality(\n",
    "    real_data,\n",
    "    synthetic_data_customized,\n",
    "    metadata\n",
    ")"
   ]
  },
  {
   "cell_type": "markdown",
   "id": "2440985a-b00d-4967-800e-d0c820e6431b",
   "metadata": {},
   "source": [
    "### 6.1. Plot the loss values for both the generator and disciminator"
   ]
  },
  {
   "cell_type": "code",
   "execution_count": 17,
   "id": "8ac0a009-0695-4827-b84d-d2773093dc10",
   "metadata": {},
   "outputs": [
    {
     "data": {
      "text/html": [
       "<iframe\n",
       "    scrolling=\"no\"\n",
       "    width=\"100%\"\n",
       "    height=\"545px\"\n",
       "    src=\"iframe_figures/figure_17.html\"\n",
       "    frameborder=\"0\"\n",
       "    allowfullscreen\n",
       "></iframe>\n"
      ]
     },
     "metadata": {},
     "output_type": "display_data"
    }
   ],
   "source": [
    "fig = synthesizer.get_loss_values_plot()\n",
    "fig.show()"
   ]
  }
 ],
 "metadata": {
  "kernelspec": {
   "display_name": "Python 3 (ipykernel)",
   "language": "python",
   "name": "python3"
  },
  "language_info": {
   "codemirror_mode": {
    "name": "ipython",
    "version": 3
   },
   "file_extension": ".py",
   "mimetype": "text/x-python",
   "name": "python",
   "nbconvert_exporter": "python",
   "pygments_lexer": "ipython3",
   "version": "3.12.3"
  }
 },
 "nbformat": 4,
 "nbformat_minor": 5
}
